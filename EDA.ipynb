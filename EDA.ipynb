{
  "nbformat": 4,
  "nbformat_minor": 0,
  "metadata": {
    "colab": {
      "name": "Копия блокнота \"EDA.ipynb\"\"",
      "provenance": [],
      "collapsed_sections": []
    },
    "kernelspec": {
      "name": "python3",
      "display_name": "Python 3"
    },
    "widgets": {
      "application/vnd.jupyter.widget-state+json": {
        "14d609c69a744a01995bc3c289116c60": {
          "model_module": "@jupyter-widgets/controls",
          "model_name": "FileUploadModel",
          "state": {
            "_view_name": "FileUploadView",
            "_counter": 1,
            "style": "IPY_MODEL_9f0b2139d78042efa5f864263df0fb00",
            "_dom_classes": [],
            "description": "Upload",
            "multiple": false,
            "_model_name": "FileUploadModel",
            "data": [
              null
            ],
            "button_style": "",
            "_view_module": "@jupyter-widgets/controls",
            "_model_module_version": "1.5.0",
            "accept": ".csv",
            "_view_count": null,
            "disabled": false,
            "_view_module_version": "1.5.0",
            "error": "",
            "description_tooltip": null,
            "metadata": [
              {
                "name": "Top_300_Classes.csv",
                "type": "application/vnd.ms-excel",
                "size": 4686,
                "lastModified": 1594070480781
              }
            ],
            "_model_module": "@jupyter-widgets/controls",
            "layout": "IPY_MODEL_eb56b8e1f44d44a3b5cea06ccf1614c5",
            "icon": "upload"
          }
        },
        "9f0b2139d78042efa5f864263df0fb00": {
          "model_module": "@jupyter-widgets/controls",
          "model_name": "ButtonStyleModel",
          "state": {
            "_view_name": "StyleView",
            "_model_name": "ButtonStyleModel",
            "_view_module": "@jupyter-widgets/base",
            "_model_module_version": "1.5.0",
            "_view_count": null,
            "button_color": null,
            "font_weight": "",
            "_view_module_version": "1.2.0",
            "_model_module": "@jupyter-widgets/controls"
          }
        },
        "eb56b8e1f44d44a3b5cea06ccf1614c5": {
          "model_module": "@jupyter-widgets/base",
          "model_name": "LayoutModel",
          "state": {
            "_view_name": "LayoutView",
            "grid_template_rows": null,
            "right": null,
            "justify_content": null,
            "_view_module": "@jupyter-widgets/base",
            "overflow": null,
            "_model_module_version": "1.2.0",
            "_view_count": null,
            "flex_flow": null,
            "width": null,
            "min_width": null,
            "border": null,
            "align_items": null,
            "bottom": null,
            "_model_module": "@jupyter-widgets/base",
            "top": null,
            "grid_column": null,
            "overflow_y": null,
            "overflow_x": null,
            "grid_auto_flow": null,
            "grid_area": null,
            "grid_template_columns": null,
            "flex": null,
            "_model_name": "LayoutModel",
            "justify_items": null,
            "grid_row": null,
            "max_height": null,
            "align_content": null,
            "visibility": null,
            "align_self": null,
            "height": null,
            "min_height": null,
            "padding": null,
            "grid_auto_rows": null,
            "grid_gap": null,
            "max_width": null,
            "order": null,
            "_view_module_version": "1.2.0",
            "grid_template_areas": null,
            "object_position": null,
            "object_fit": null,
            "grid_auto_columns": null,
            "margin": null,
            "display": null,
            "left": null
          }
        },
        "cf2dee61f2cc4392b8872d9cec8ac0f1": {
          "model_module": "@jupyter-widgets/controls",
          "model_name": "VBoxModel",
          "state": {
            "_view_name": "VBoxView",
            "_dom_classes": [
              "widget-interact"
            ],
            "_model_name": "VBoxModel",
            "_view_module": "@jupyter-widgets/controls",
            "_model_module_version": "1.5.0",
            "_view_count": null,
            "_view_module_version": "1.5.0",
            "box_style": "",
            "layout": "IPY_MODEL_5ceae8cc017349289b5c697118c32632",
            "_model_module": "@jupyter-widgets/controls",
            "children": [
              "IPY_MODEL_2156e5d29829484d8272bd7cf19d0340",
              "IPY_MODEL_8ae5efca679c40a7b688dc1de843dcd0"
            ]
          }
        },
        "5ceae8cc017349289b5c697118c32632": {
          "model_module": "@jupyter-widgets/base",
          "model_name": "LayoutModel",
          "state": {
            "_view_name": "LayoutView",
            "grid_template_rows": null,
            "right": null,
            "justify_content": null,
            "_view_module": "@jupyter-widgets/base",
            "overflow": null,
            "_model_module_version": "1.2.0",
            "_view_count": null,
            "flex_flow": null,
            "width": null,
            "min_width": null,
            "border": null,
            "align_items": null,
            "bottom": null,
            "_model_module": "@jupyter-widgets/base",
            "top": null,
            "grid_column": null,
            "overflow_y": null,
            "overflow_x": null,
            "grid_auto_flow": null,
            "grid_area": null,
            "grid_template_columns": null,
            "flex": null,
            "_model_name": "LayoutModel",
            "justify_items": null,
            "grid_row": null,
            "max_height": null,
            "align_content": null,
            "visibility": null,
            "align_self": null,
            "height": null,
            "min_height": null,
            "padding": null,
            "grid_auto_rows": null,
            "grid_gap": null,
            "max_width": null,
            "order": null,
            "_view_module_version": "1.2.0",
            "grid_template_areas": null,
            "object_position": null,
            "object_fit": null,
            "grid_auto_columns": null,
            "margin": null,
            "display": null,
            "left": null
          }
        },
        "2156e5d29829484d8272bd7cf19d0340": {
          "model_module": "@jupyter-widgets/controls",
          "model_name": "IntSliderModel",
          "state": {
            "_view_name": "IntSliderView",
            "style": "IPY_MODEL_c3b0f6d0894248e4aa979631f70aa73f",
            "_dom_classes": [],
            "description": "n",
            "step": 1,
            "_model_name": "IntSliderModel",
            "orientation": "horizontal",
            "max": 30,
            "_view_module": "@jupyter-widgets/controls",
            "_model_module_version": "1.5.0",
            "value": 8,
            "_view_count": null,
            "disabled": false,
            "_view_module_version": "1.5.0",
            "min": 1,
            "continuous_update": true,
            "readout_format": "d",
            "description_tooltip": null,
            "readout": true,
            "_model_module": "@jupyter-widgets/controls",
            "layout": "IPY_MODEL_4ef04e9e37cf409889aacc634d5b6e3e"
          }
        },
        "8ae5efca679c40a7b688dc1de843dcd0": {
          "model_module": "@jupyter-widgets/output",
          "model_name": "OutputModel",
          "state": {
            "_view_name": "OutputView",
            "msg_id": "",
            "_dom_classes": [],
            "_model_name": "OutputModel",
            "outputs": [
              {
                "output_type": "display_data",
                "metadata": {
                  "tags": []
                },
                "text/html": "<div>\n<style scoped>\n    .dataframe tbody tr th:only-of-type {\n        vertical-align: middle;\n    }\n\n    .dataframe tbody tr th {\n        vertical-align: top;\n    }\n\n    .dataframe thead th {\n        text-align: right;\n    }\n</style>\n<table border=\"1\" class=\"dataframe\">\n  <thead>\n    <tr style=\"text-align: right;\">\n      <th></th>\n      <th>Superclass</th>\n      <th>Size</th>\n      <th>Images</th>\n    </tr>\n  </thead>\n  <tbody>\n    <tr>\n      <th>0</th>\n      <td>animals</td>\n      <td>3015</td>\n      <td>0.0</td>\n    </tr>\n    <tr>\n      <th>1</th>\n      <td>artefacts</td>\n      <td>4886</td>\n      <td>0.0</td>\n    </tr>\n    <tr>\n      <th>2</th>\n      <td>misc</td>\n      <td>2203</td>\n      <td>0.0</td>\n    </tr>\n    <tr>\n      <th>3</th>\n      <td>natural objects</td>\n      <td>617</td>\n      <td>0.0</td>\n    </tr>\n    <tr>\n      <th>4</th>\n      <td>people</td>\n      <td>6336</td>\n      <td>0.0</td>\n    </tr>\n    <tr>\n      <th>5</th>\n      <td>plants</td>\n      <td>3839</td>\n      <td>0.0</td>\n    </tr>\n  </tbody>\n</table>\n</div>",
                "text/plain": "        Superclass  Size  Images\n0          animals  3015     0.0\n1        artefacts  4886     0.0\n2             misc  2203     0.0\n3  natural objects   617     0.0\n4           people  6336     0.0\n5           plants  3839     0.0"
              }
            ],
            "_view_module": "@jupyter-widgets/output",
            "_model_module_version": "1.0.0",
            "_view_count": null,
            "_view_module_version": "1.0.0",
            "layout": "IPY_MODEL_dfe6daf5f93d4bf38b491399832b3a7e",
            "_model_module": "@jupyter-widgets/output"
          }
        },
        "c3b0f6d0894248e4aa979631f70aa73f": {
          "model_module": "@jupyter-widgets/controls",
          "model_name": "SliderStyleModel",
          "state": {
            "_view_name": "StyleView",
            "handle_color": null,
            "_model_name": "SliderStyleModel",
            "description_width": "",
            "_view_module": "@jupyter-widgets/base",
            "_model_module_version": "1.5.0",
            "_view_count": null,
            "_view_module_version": "1.2.0",
            "_model_module": "@jupyter-widgets/controls"
          }
        },
        "4ef04e9e37cf409889aacc634d5b6e3e": {
          "model_module": "@jupyter-widgets/base",
          "model_name": "LayoutModel",
          "state": {
            "_view_name": "LayoutView",
            "grid_template_rows": null,
            "right": null,
            "justify_content": null,
            "_view_module": "@jupyter-widgets/base",
            "overflow": null,
            "_model_module_version": "1.2.0",
            "_view_count": null,
            "flex_flow": null,
            "width": null,
            "min_width": null,
            "border": null,
            "align_items": null,
            "bottom": null,
            "_model_module": "@jupyter-widgets/base",
            "top": null,
            "grid_column": null,
            "overflow_y": null,
            "overflow_x": null,
            "grid_auto_flow": null,
            "grid_area": null,
            "grid_template_columns": null,
            "flex": null,
            "_model_name": "LayoutModel",
            "justify_items": null,
            "grid_row": null,
            "max_height": null,
            "align_content": null,
            "visibility": null,
            "align_self": null,
            "height": null,
            "min_height": null,
            "padding": null,
            "grid_auto_rows": null,
            "grid_gap": null,
            "max_width": null,
            "order": null,
            "_view_module_version": "1.2.0",
            "grid_template_areas": null,
            "object_position": null,
            "object_fit": null,
            "grid_auto_columns": null,
            "margin": null,
            "display": null,
            "left": null
          }
        },
        "dfe6daf5f93d4bf38b491399832b3a7e": {
          "model_module": "@jupyter-widgets/base",
          "model_name": "LayoutModel",
          "state": {
            "_view_name": "LayoutView",
            "grid_template_rows": null,
            "right": null,
            "justify_content": null,
            "_view_module": "@jupyter-widgets/base",
            "overflow": null,
            "_model_module_version": "1.2.0",
            "_view_count": null,
            "flex_flow": null,
            "width": null,
            "min_width": null,
            "border": null,
            "align_items": null,
            "bottom": null,
            "_model_module": "@jupyter-widgets/base",
            "top": null,
            "grid_column": null,
            "overflow_y": null,
            "overflow_x": null,
            "grid_auto_flow": null,
            "grid_area": null,
            "grid_template_columns": null,
            "flex": null,
            "_model_name": "LayoutModel",
            "justify_items": null,
            "grid_row": null,
            "max_height": null,
            "align_content": null,
            "visibility": null,
            "align_self": null,
            "height": null,
            "min_height": null,
            "padding": null,
            "grid_auto_rows": null,
            "grid_gap": null,
            "max_width": null,
            "order": null,
            "_view_module_version": "1.2.0",
            "grid_template_areas": null,
            "object_position": null,
            "object_fit": null,
            "grid_auto_columns": null,
            "margin": null,
            "display": null,
            "left": null
          }
        },
        "eca10ed656674c068cad60297a6aecf2": {
          "model_module": "@jupyter-widgets/controls",
          "model_name": "DropdownModel",
          "state": {
            "_options_labels": [
              "Superclass",
              "Size",
              "Images"
            ],
            "_view_name": "DropdownView",
            "style": "IPY_MODEL_e542964b7d2b4e01a42799890eb3b287",
            "_dom_classes": [],
            "description": "Select column X",
            "_model_name": "DropdownModel",
            "index": 0,
            "_view_module": "@jupyter-widgets/controls",
            "_model_module_version": "1.5.0",
            "_view_count": null,
            "disabled": false,
            "_view_module_version": "1.5.0",
            "description_tooltip": null,
            "_model_module": "@jupyter-widgets/controls",
            "layout": "IPY_MODEL_303bfa06623c4503ada1b1063baad999"
          }
        },
        "e542964b7d2b4e01a42799890eb3b287": {
          "model_module": "@jupyter-widgets/controls",
          "model_name": "DescriptionStyleModel",
          "state": {
            "_view_name": "StyleView",
            "_model_name": "DescriptionStyleModel",
            "description_width": "",
            "_view_module": "@jupyter-widgets/base",
            "_model_module_version": "1.5.0",
            "_view_count": null,
            "_view_module_version": "1.2.0",
            "_model_module": "@jupyter-widgets/controls"
          }
        },
        "303bfa06623c4503ada1b1063baad999": {
          "model_module": "@jupyter-widgets/base",
          "model_name": "LayoutModel",
          "state": {
            "_view_name": "LayoutView",
            "grid_template_rows": null,
            "right": null,
            "justify_content": null,
            "_view_module": "@jupyter-widgets/base",
            "overflow": null,
            "_model_module_version": "1.2.0",
            "_view_count": null,
            "flex_flow": null,
            "width": null,
            "min_width": null,
            "border": null,
            "align_items": null,
            "bottom": null,
            "_model_module": "@jupyter-widgets/base",
            "top": null,
            "grid_column": null,
            "overflow_y": null,
            "overflow_x": null,
            "grid_auto_flow": null,
            "grid_area": null,
            "grid_template_columns": null,
            "flex": null,
            "_model_name": "LayoutModel",
            "justify_items": null,
            "grid_row": null,
            "max_height": null,
            "align_content": null,
            "visibility": null,
            "align_self": null,
            "height": null,
            "min_height": null,
            "padding": null,
            "grid_auto_rows": null,
            "grid_gap": null,
            "max_width": null,
            "order": null,
            "_view_module_version": "1.2.0",
            "grid_template_areas": null,
            "object_position": null,
            "object_fit": null,
            "grid_auto_columns": null,
            "margin": null,
            "display": null,
            "left": null
          }
        },
        "014cabe04f114bddbc72855734ee19c2": {
          "model_module": "@jupyter-widgets/controls",
          "model_name": "DropdownModel",
          "state": {
            "_options_labels": [
              "Superclass",
              "Size",
              "Images"
            ],
            "_view_name": "DropdownView",
            "style": "IPY_MODEL_c7b49e40819e4ba98d6e5182ea9498f1",
            "_dom_classes": [],
            "description": "Select column Y",
            "_model_name": "DropdownModel",
            "index": 1,
            "_view_module": "@jupyter-widgets/controls",
            "_model_module_version": "1.5.0",
            "_view_count": null,
            "disabled": false,
            "_view_module_version": "1.5.0",
            "description_tooltip": null,
            "_model_module": "@jupyter-widgets/controls",
            "layout": "IPY_MODEL_727ec4afd52046529fc35922622d64cd"
          }
        },
        "c7b49e40819e4ba98d6e5182ea9498f1": {
          "model_module": "@jupyter-widgets/controls",
          "model_name": "DescriptionStyleModel",
          "state": {
            "_view_name": "StyleView",
            "_model_name": "DescriptionStyleModel",
            "description_width": "",
            "_view_module": "@jupyter-widgets/base",
            "_model_module_version": "1.5.0",
            "_view_count": null,
            "_view_module_version": "1.2.0",
            "_model_module": "@jupyter-widgets/controls"
          }
        },
        "727ec4afd52046529fc35922622d64cd": {
          "model_module": "@jupyter-widgets/base",
          "model_name": "LayoutModel",
          "state": {
            "_view_name": "LayoutView",
            "grid_template_rows": null,
            "right": null,
            "justify_content": null,
            "_view_module": "@jupyter-widgets/base",
            "overflow": null,
            "_model_module_version": "1.2.0",
            "_view_count": null,
            "flex_flow": null,
            "width": null,
            "min_width": null,
            "border": null,
            "align_items": null,
            "bottom": null,
            "_model_module": "@jupyter-widgets/base",
            "top": null,
            "grid_column": null,
            "overflow_y": null,
            "overflow_x": null,
            "grid_auto_flow": null,
            "grid_area": null,
            "grid_template_columns": null,
            "flex": null,
            "_model_name": "LayoutModel",
            "justify_items": null,
            "grid_row": null,
            "max_height": null,
            "align_content": null,
            "visibility": null,
            "align_self": null,
            "height": null,
            "min_height": null,
            "padding": null,
            "grid_auto_rows": null,
            "grid_gap": null,
            "max_width": null,
            "order": null,
            "_view_module_version": "1.2.0",
            "grid_template_areas": null,
            "object_position": null,
            "object_fit": null,
            "grid_auto_columns": null,
            "margin": null,
            "display": null,
            "left": null
          }
        },
        "457b086d88b44a33bc5e9035bfb106c3": {
          "model_module": "@jupyter-widgets/controls",
          "model_name": "VBoxModel",
          "state": {
            "_view_name": "VBoxView",
            "_dom_classes": [
              "widget-interact"
            ],
            "_model_name": "VBoxModel",
            "_view_module": "@jupyter-widgets/controls",
            "_model_module_version": "1.5.0",
            "_view_count": null,
            "_view_module_version": "1.5.0",
            "box_style": "",
            "layout": "IPY_MODEL_6ed5b9dc578d4a26be871af098296f01",
            "_model_module": "@jupyter-widgets/controls",
            "children": [
              "IPY_MODEL_8a3de590c8c84a23a938bcc0c790dcef",
              "IPY_MODEL_6aed2ca162d64b2285bb86cafe9ef292",
              "IPY_MODEL_52d467d8568d4ed898b8e953ab91aad4",
              "IPY_MODEL_f6519ad945b64e758b015c253b20d406"
            ]
          }
        },
        "6ed5b9dc578d4a26be871af098296f01": {
          "model_module": "@jupyter-widgets/base",
          "model_name": "LayoutModel",
          "state": {
            "_view_name": "LayoutView",
            "grid_template_rows": null,
            "right": null,
            "justify_content": null,
            "_view_module": "@jupyter-widgets/base",
            "overflow": null,
            "_model_module_version": "1.2.0",
            "_view_count": null,
            "flex_flow": null,
            "width": null,
            "min_width": null,
            "border": null,
            "align_items": null,
            "bottom": null,
            "_model_module": "@jupyter-widgets/base",
            "top": null,
            "grid_column": null,
            "overflow_y": null,
            "overflow_x": null,
            "grid_auto_flow": null,
            "grid_area": null,
            "grid_template_columns": null,
            "flex": null,
            "_model_name": "LayoutModel",
            "justify_items": null,
            "grid_row": null,
            "max_height": null,
            "align_content": null,
            "visibility": null,
            "align_self": null,
            "height": null,
            "min_height": null,
            "padding": null,
            "grid_auto_rows": null,
            "grid_gap": null,
            "max_width": null,
            "order": null,
            "_view_module_version": "1.2.0",
            "grid_template_areas": null,
            "object_position": null,
            "object_fit": null,
            "grid_auto_columns": null,
            "margin": null,
            "display": null,
            "left": null
          }
        },
        "8a3de590c8c84a23a938bcc0c790dcef": {
          "model_module": "@jupyter-widgets/controls",
          "model_name": "IntSliderModel",
          "state": {
            "_view_name": "IntSliderView",
            "style": "IPY_MODEL_39c348ae1d4e4ecba8b5b25ac967a2c0",
            "_dom_classes": [],
            "description": "width",
            "step": 1,
            "_model_name": "IntSliderModel",
            "orientation": "horizontal",
            "max": 50,
            "_view_module": "@jupyter-widgets/controls",
            "_model_module_version": "1.5.0",
            "value": 22,
            "_view_count": null,
            "disabled": false,
            "_view_module_version": "1.5.0",
            "min": 0,
            "continuous_update": true,
            "readout_format": "d",
            "description_tooltip": null,
            "readout": true,
            "_model_module": "@jupyter-widgets/controls",
            "layout": "IPY_MODEL_78c40a0b72404c108236e95f109210b6"
          }
        },
        "6aed2ca162d64b2285bb86cafe9ef292": {
          "model_module": "@jupyter-widgets/controls",
          "model_name": "IntSliderModel",
          "state": {
            "_view_name": "IntSliderView",
            "style": "IPY_MODEL_f43d1a61b3d24c96ab548863210779a7",
            "_dom_classes": [],
            "description": "height",
            "step": 1,
            "_model_name": "IntSliderModel",
            "orientation": "horizontal",
            "max": 30,
            "_view_module": "@jupyter-widgets/controls",
            "_model_module_version": "1.5.0",
            "value": 9,
            "_view_count": null,
            "disabled": false,
            "_view_module_version": "1.5.0",
            "min": 0,
            "continuous_update": true,
            "readout_format": "d",
            "description_tooltip": null,
            "readout": true,
            "_model_module": "@jupyter-widgets/controls",
            "layout": "IPY_MODEL_35af7767cbd14e069ded9c5296fa642c"
          }
        },
        "52d467d8568d4ed898b8e953ab91aad4": {
          "model_module": "@jupyter-widgets/controls",
          "model_name": "IntSliderModel",
          "state": {
            "_view_name": "IntSliderView",
            "style": "IPY_MODEL_572a108a9f644231a302ef6d992af26f",
            "_dom_classes": [],
            "description": "lightness",
            "step": 1,
            "_model_name": "IntSliderModel",
            "orientation": "horizontal",
            "max": 30,
            "_view_module": "@jupyter-widgets/controls",
            "_model_module_version": "1.5.0",
            "value": 8,
            "_view_count": null,
            "disabled": false,
            "_view_module_version": "1.5.0",
            "min": 0,
            "continuous_update": true,
            "readout_format": "d",
            "description_tooltip": null,
            "readout": true,
            "_model_module": "@jupyter-widgets/controls",
            "layout": "IPY_MODEL_a7bd10bf49764fd6a257c3ecd49f4d26"
          }
        },
        "f6519ad945b64e758b015c253b20d406": {
          "model_module": "@jupyter-widgets/output",
          "model_name": "OutputModel",
          "state": {
            "_view_name": "OutputView",
            "msg_id": "",
            "_dom_classes": [],
            "_model_name": "OutputModel",
            "outputs": [
              {
                "output_type": "display_data",
                "metadata": {
                  "tags": [],
                  "needs_background": "light"
                },
                "image/png": "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\n",
                "text/plain": "<Figure size 1584x648 with 1 Axes>"
              }
            ],
            "_view_module": "@jupyter-widgets/output",
            "_model_module_version": "1.0.0",
            "_view_count": null,
            "_view_module_version": "1.0.0",
            "layout": "IPY_MODEL_af19af5d7a284608b77207cce8281738",
            "_model_module": "@jupyter-widgets/output"
          }
        },
        "39c348ae1d4e4ecba8b5b25ac967a2c0": {
          "model_module": "@jupyter-widgets/controls",
          "model_name": "SliderStyleModel",
          "state": {
            "_view_name": "StyleView",
            "handle_color": null,
            "_model_name": "SliderStyleModel",
            "description_width": "",
            "_view_module": "@jupyter-widgets/base",
            "_model_module_version": "1.5.0",
            "_view_count": null,
            "_view_module_version": "1.2.0",
            "_model_module": "@jupyter-widgets/controls"
          }
        },
        "78c40a0b72404c108236e95f109210b6": {
          "model_module": "@jupyter-widgets/base",
          "model_name": "LayoutModel",
          "state": {
            "_view_name": "LayoutView",
            "grid_template_rows": null,
            "right": null,
            "justify_content": null,
            "_view_module": "@jupyter-widgets/base",
            "overflow": null,
            "_model_module_version": "1.2.0",
            "_view_count": null,
            "flex_flow": null,
            "width": null,
            "min_width": null,
            "border": null,
            "align_items": null,
            "bottom": null,
            "_model_module": "@jupyter-widgets/base",
            "top": null,
            "grid_column": null,
            "overflow_y": null,
            "overflow_x": null,
            "grid_auto_flow": null,
            "grid_area": null,
            "grid_template_columns": null,
            "flex": null,
            "_model_name": "LayoutModel",
            "justify_items": null,
            "grid_row": null,
            "max_height": null,
            "align_content": null,
            "visibility": null,
            "align_self": null,
            "height": null,
            "min_height": null,
            "padding": null,
            "grid_auto_rows": null,
            "grid_gap": null,
            "max_width": null,
            "order": null,
            "_view_module_version": "1.2.0",
            "grid_template_areas": null,
            "object_position": null,
            "object_fit": null,
            "grid_auto_columns": null,
            "margin": null,
            "display": null,
            "left": null
          }
        },
        "f43d1a61b3d24c96ab548863210779a7": {
          "model_module": "@jupyter-widgets/controls",
          "model_name": "SliderStyleModel",
          "state": {
            "_view_name": "StyleView",
            "handle_color": null,
            "_model_name": "SliderStyleModel",
            "description_width": "",
            "_view_module": "@jupyter-widgets/base",
            "_model_module_version": "1.5.0",
            "_view_count": null,
            "_view_module_version": "1.2.0",
            "_model_module": "@jupyter-widgets/controls"
          }
        },
        "35af7767cbd14e069ded9c5296fa642c": {
          "model_module": "@jupyter-widgets/base",
          "model_name": "LayoutModel",
          "state": {
            "_view_name": "LayoutView",
            "grid_template_rows": null,
            "right": null,
            "justify_content": null,
            "_view_module": "@jupyter-widgets/base",
            "overflow": null,
            "_model_module_version": "1.2.0",
            "_view_count": null,
            "flex_flow": null,
            "width": null,
            "min_width": null,
            "border": null,
            "align_items": null,
            "bottom": null,
            "_model_module": "@jupyter-widgets/base",
            "top": null,
            "grid_column": null,
            "overflow_y": null,
            "overflow_x": null,
            "grid_auto_flow": null,
            "grid_area": null,
            "grid_template_columns": null,
            "flex": null,
            "_model_name": "LayoutModel",
            "justify_items": null,
            "grid_row": null,
            "max_height": null,
            "align_content": null,
            "visibility": null,
            "align_self": null,
            "height": null,
            "min_height": null,
            "padding": null,
            "grid_auto_rows": null,
            "grid_gap": null,
            "max_width": null,
            "order": null,
            "_view_module_version": "1.2.0",
            "grid_template_areas": null,
            "object_position": null,
            "object_fit": null,
            "grid_auto_columns": null,
            "margin": null,
            "display": null,
            "left": null
          }
        },
        "572a108a9f644231a302ef6d992af26f": {
          "model_module": "@jupyter-widgets/controls",
          "model_name": "SliderStyleModel",
          "state": {
            "_view_name": "StyleView",
            "handle_color": null,
            "_model_name": "SliderStyleModel",
            "description_width": "",
            "_view_module": "@jupyter-widgets/base",
            "_model_module_version": "1.5.0",
            "_view_count": null,
            "_view_module_version": "1.2.0",
            "_model_module": "@jupyter-widgets/controls"
          }
        },
        "a7bd10bf49764fd6a257c3ecd49f4d26": {
          "model_module": "@jupyter-widgets/base",
          "model_name": "LayoutModel",
          "state": {
            "_view_name": "LayoutView",
            "grid_template_rows": null,
            "right": null,
            "justify_content": null,
            "_view_module": "@jupyter-widgets/base",
            "overflow": null,
            "_model_module_version": "1.2.0",
            "_view_count": null,
            "flex_flow": null,
            "width": null,
            "min_width": null,
            "border": null,
            "align_items": null,
            "bottom": null,
            "_model_module": "@jupyter-widgets/base",
            "top": null,
            "grid_column": null,
            "overflow_y": null,
            "overflow_x": null,
            "grid_auto_flow": null,
            "grid_area": null,
            "grid_template_columns": null,
            "flex": null,
            "_model_name": "LayoutModel",
            "justify_items": null,
            "grid_row": null,
            "max_height": null,
            "align_content": null,
            "visibility": null,
            "align_self": null,
            "height": null,
            "min_height": null,
            "padding": null,
            "grid_auto_rows": null,
            "grid_gap": null,
            "max_width": null,
            "order": null,
            "_view_module_version": "1.2.0",
            "grid_template_areas": null,
            "object_position": null,
            "object_fit": null,
            "grid_auto_columns": null,
            "margin": null,
            "display": null,
            "left": null
          }
        },
        "af19af5d7a284608b77207cce8281738": {
          "model_module": "@jupyter-widgets/base",
          "model_name": "LayoutModel",
          "state": {
            "_view_name": "LayoutView",
            "grid_template_rows": null,
            "right": null,
            "justify_content": null,
            "_view_module": "@jupyter-widgets/base",
            "overflow": null,
            "_model_module_version": "1.2.0",
            "_view_count": null,
            "flex_flow": null,
            "width": null,
            "min_width": null,
            "border": null,
            "align_items": null,
            "bottom": null,
            "_model_module": "@jupyter-widgets/base",
            "top": null,
            "grid_column": null,
            "overflow_y": null,
            "overflow_x": null,
            "grid_auto_flow": null,
            "grid_area": null,
            "grid_template_columns": null,
            "flex": null,
            "_model_name": "LayoutModel",
            "justify_items": null,
            "grid_row": null,
            "max_height": null,
            "align_content": null,
            "visibility": null,
            "align_self": null,
            "height": null,
            "min_height": null,
            "padding": null,
            "grid_auto_rows": null,
            "grid_gap": null,
            "max_width": null,
            "order": null,
            "_view_module_version": "1.2.0",
            "grid_template_areas": null,
            "object_position": null,
            "object_fit": null,
            "grid_auto_columns": null,
            "margin": null,
            "display": null,
            "left": null
          }
        },
        "0a950577a813409cbc551312b50ff8f9": {
          "model_module": "@jupyter-widgets/controls",
          "model_name": "VBoxModel",
          "state": {
            "_view_name": "VBoxView",
            "_dom_classes": [
              "widget-interact"
            ],
            "_model_name": "VBoxModel",
            "_view_module": "@jupyter-widgets/controls",
            "_model_module_version": "1.5.0",
            "_view_count": null,
            "_view_module_version": "1.5.0",
            "box_style": "",
            "layout": "IPY_MODEL_19531956dd8b4181a4f3bba997d82ba0",
            "_model_module": "@jupyter-widgets/controls",
            "children": [
              "IPY_MODEL_168f17e6abe8485e9805d8f7e1cb4e51",
              "IPY_MODEL_f3ac45ba0f584e099994aa94e356f447",
              "IPY_MODEL_22450cb5ccf440c1a7397919399d8176"
            ]
          }
        },
        "19531956dd8b4181a4f3bba997d82ba0": {
          "model_module": "@jupyter-widgets/base",
          "model_name": "LayoutModel",
          "state": {
            "_view_name": "LayoutView",
            "grid_template_rows": null,
            "right": null,
            "justify_content": null,
            "_view_module": "@jupyter-widgets/base",
            "overflow": null,
            "_model_module_version": "1.2.0",
            "_view_count": null,
            "flex_flow": null,
            "width": null,
            "min_width": null,
            "border": null,
            "align_items": null,
            "bottom": null,
            "_model_module": "@jupyter-widgets/base",
            "top": null,
            "grid_column": null,
            "overflow_y": null,
            "overflow_x": null,
            "grid_auto_flow": null,
            "grid_area": null,
            "grid_template_columns": null,
            "flex": null,
            "_model_name": "LayoutModel",
            "justify_items": null,
            "grid_row": null,
            "max_height": null,
            "align_content": null,
            "visibility": null,
            "align_self": null,
            "height": null,
            "min_height": null,
            "padding": null,
            "grid_auto_rows": null,
            "grid_gap": null,
            "max_width": null,
            "order": null,
            "_view_module_version": "1.2.0",
            "grid_template_areas": null,
            "object_position": null,
            "object_fit": null,
            "grid_auto_columns": null,
            "margin": null,
            "display": null,
            "left": null
          }
        },
        "168f17e6abe8485e9805d8f7e1cb4e51": {
          "model_module": "@jupyter-widgets/controls",
          "model_name": "IntSliderModel",
          "state": {
            "_view_name": "IntSliderView",
            "style": "IPY_MODEL_b7ae75110cb84832a30187d431f3c469",
            "_dom_classes": [],
            "description": "elems",
            "step": 1,
            "_model_name": "IntSliderModel",
            "orientation": "horizontal",
            "max": 6,
            "_view_module": "@jupyter-widgets/controls",
            "_model_module_version": "1.5.0",
            "value": 5,
            "_view_count": null,
            "disabled": false,
            "_view_module_version": "1.5.0",
            "min": 2,
            "continuous_update": true,
            "readout_format": "d",
            "description_tooltip": null,
            "readout": true,
            "_model_module": "@jupyter-widgets/controls",
            "layout": "IPY_MODEL_852042b48e414fa9b578a555b5d806cb"
          }
        },
        "f3ac45ba0f584e099994aa94e356f447": {
          "model_module": "@jupyter-widgets/controls",
          "model_name": "CheckboxModel",
          "state": {
            "_view_name": "CheckboxView",
            "style": "IPY_MODEL_e55206ff270247e4aa22677a0ab33386",
            "_dom_classes": [],
            "description": "logscale",
            "_model_name": "CheckboxModel",
            "_view_module": "@jupyter-widgets/controls",
            "_model_module_version": "1.5.0",
            "value": false,
            "_view_count": null,
            "disabled": false,
            "_view_module_version": "1.5.0",
            "indent": true,
            "description_tooltip": null,
            "_model_module": "@jupyter-widgets/controls",
            "layout": "IPY_MODEL_e35046cbef3c47db9fb5d6e92e5fa28e"
          }
        },
        "22450cb5ccf440c1a7397919399d8176": {
          "model_module": "@jupyter-widgets/output",
          "model_name": "OutputModel",
          "state": {
            "_view_name": "OutputView",
            "msg_id": "",
            "_dom_classes": [],
            "_model_name": "OutputModel",
            "outputs": [
              {
                "output_type": "display_data",
                "metadata": {
                  "tags": [],
                  "needs_background": "light"
                },
                "image/png": "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\n",
                "text/plain": "<Figure size 432x288 with 1 Axes>"
              },
              {
                "output_type": "stream",
                "metadata": {
                  "tags": []
                },
                "text": "R^2 sklearn: 0.9333593439956286\nR^2: 0.9333593439956286\nslope: 0.9333593439956236\nintercept: 0.5492526844498764\nR value: 0.9661052447821762\nP value: 0.007452674801326228\nstd err: 0.14399036885810312\n",
                "stream": "stdout"
              }
            ],
            "_view_module": "@jupyter-widgets/output",
            "_model_module_version": "1.0.0",
            "_view_count": null,
            "_view_module_version": "1.0.0",
            "layout": "IPY_MODEL_a3728a775dab4dcb95bce789d7505dfa",
            "_model_module": "@jupyter-widgets/output"
          }
        },
        "b7ae75110cb84832a30187d431f3c469": {
          "model_module": "@jupyter-widgets/controls",
          "model_name": "SliderStyleModel",
          "state": {
            "_view_name": "StyleView",
            "handle_color": null,
            "_model_name": "SliderStyleModel",
            "description_width": "",
            "_view_module": "@jupyter-widgets/base",
            "_model_module_version": "1.5.0",
            "_view_count": null,
            "_view_module_version": "1.2.0",
            "_model_module": "@jupyter-widgets/controls"
          }
        },
        "852042b48e414fa9b578a555b5d806cb": {
          "model_module": "@jupyter-widgets/base",
          "model_name": "LayoutModel",
          "state": {
            "_view_name": "LayoutView",
            "grid_template_rows": null,
            "right": null,
            "justify_content": null,
            "_view_module": "@jupyter-widgets/base",
            "overflow": null,
            "_model_module_version": "1.2.0",
            "_view_count": null,
            "flex_flow": null,
            "width": null,
            "min_width": null,
            "border": null,
            "align_items": null,
            "bottom": null,
            "_model_module": "@jupyter-widgets/base",
            "top": null,
            "grid_column": null,
            "overflow_y": null,
            "overflow_x": null,
            "grid_auto_flow": null,
            "grid_area": null,
            "grid_template_columns": null,
            "flex": null,
            "_model_name": "LayoutModel",
            "justify_items": null,
            "grid_row": null,
            "max_height": null,
            "align_content": null,
            "visibility": null,
            "align_self": null,
            "height": null,
            "min_height": null,
            "padding": null,
            "grid_auto_rows": null,
            "grid_gap": null,
            "max_width": null,
            "order": null,
            "_view_module_version": "1.2.0",
            "grid_template_areas": null,
            "object_position": null,
            "object_fit": null,
            "grid_auto_columns": null,
            "margin": null,
            "display": null,
            "left": null
          }
        },
        "e55206ff270247e4aa22677a0ab33386": {
          "model_module": "@jupyter-widgets/controls",
          "model_name": "DescriptionStyleModel",
          "state": {
            "_view_name": "StyleView",
            "_model_name": "DescriptionStyleModel",
            "description_width": "",
            "_view_module": "@jupyter-widgets/base",
            "_model_module_version": "1.5.0",
            "_view_count": null,
            "_view_module_version": "1.2.0",
            "_model_module": "@jupyter-widgets/controls"
          }
        },
        "e35046cbef3c47db9fb5d6e92e5fa28e": {
          "model_module": "@jupyter-widgets/base",
          "model_name": "LayoutModel",
          "state": {
            "_view_name": "LayoutView",
            "grid_template_rows": null,
            "right": null,
            "justify_content": null,
            "_view_module": "@jupyter-widgets/base",
            "overflow": null,
            "_model_module_version": "1.2.0",
            "_view_count": null,
            "flex_flow": null,
            "width": null,
            "min_width": null,
            "border": null,
            "align_items": null,
            "bottom": null,
            "_model_module": "@jupyter-widgets/base",
            "top": null,
            "grid_column": null,
            "overflow_y": null,
            "overflow_x": null,
            "grid_auto_flow": null,
            "grid_area": null,
            "grid_template_columns": null,
            "flex": null,
            "_model_name": "LayoutModel",
            "justify_items": null,
            "grid_row": null,
            "max_height": null,
            "align_content": null,
            "visibility": null,
            "align_self": null,
            "height": null,
            "min_height": null,
            "padding": null,
            "grid_auto_rows": null,
            "grid_gap": null,
            "max_width": null,
            "order": null,
            "_view_module_version": "1.2.0",
            "grid_template_areas": null,
            "object_position": null,
            "object_fit": null,
            "grid_auto_columns": null,
            "margin": null,
            "display": null,
            "left": null
          }
        },
        "a3728a775dab4dcb95bce789d7505dfa": {
          "model_module": "@jupyter-widgets/base",
          "model_name": "LayoutModel",
          "state": {
            "_view_name": "LayoutView",
            "grid_template_rows": null,
            "right": null,
            "justify_content": null,
            "_view_module": "@jupyter-widgets/base",
            "overflow": null,
            "_model_module_version": "1.2.0",
            "_view_count": null,
            "flex_flow": null,
            "width": null,
            "min_width": null,
            "border": null,
            "align_items": null,
            "bottom": null,
            "_model_module": "@jupyter-widgets/base",
            "top": null,
            "grid_column": null,
            "overflow_y": null,
            "overflow_x": null,
            "grid_auto_flow": null,
            "grid_area": null,
            "grid_template_columns": null,
            "flex": null,
            "_model_name": "LayoutModel",
            "justify_items": null,
            "grid_row": null,
            "max_height": null,
            "align_content": null,
            "visibility": null,
            "align_self": null,
            "height": null,
            "min_height": null,
            "padding": null,
            "grid_auto_rows": null,
            "grid_gap": null,
            "max_width": null,
            "order": null,
            "_view_module_version": "1.2.0",
            "grid_template_areas": null,
            "object_position": null,
            "object_fit": null,
            "grid_auto_columns": null,
            "margin": null,
            "display": null,
            "left": null
          }
        }
      }
    }
  },
  "cells": [
    {
      "cell_type": "markdown",
      "metadata": {
        "id": "inWG1XCF3cz5"
      },
      "source": [
        "<img src=\"https://miro.medium.com/max/2520/1*3rMzzcOz933RVvaO17UVLg.jpeg\">"
      ]
    },
    {
      "cell_type": "code",
      "metadata": {
        "id": "haxviabr5eMS",
        "outputId": "94108efc-6d1d-426a-c817-d3aac71df345",
        "colab": {
          "base_uri": "https://localhost:8080/",
          "height": 217
        }
      },
      "source": [
        "!wget  -O \"Roboto.zip\" \"https://fonts.google.com/download?family=Roboto\""
      ],
      "execution_count": 2,
      "outputs": [
        {
          "output_type": "stream",
          "text": [
            "--2020-10-05 06:21:41--  https://fonts.google.com/download?family=Roboto\n",
            "Resolving fonts.google.com (fonts.google.com)... 74.125.142.139, 74.125.142.101, 74.125.142.138, ...\n",
            "Connecting to fonts.google.com (fonts.google.com)|74.125.142.139|:443... connected.\n",
            "HTTP request sent, awaiting response... 200 OK\n",
            "Length: unspecified [application/zip]\n",
            "Saving to: ‘Roboto.zip’\n",
            "\n",
            "Roboto.zip              [  <=>               ]   1.07M  4.08MB/s    in 0.3s    \n",
            "\n",
            "2020-10-05 06:21:42 (4.08 MB/s) - ‘Roboto.zip’ saved [1124235]\n",
            "\n"
          ],
          "name": "stdout"
        }
      ]
    },
    {
      "cell_type": "code",
      "metadata": {
        "id": "0aRwXIbA9NIW",
        "outputId": "f4215da1-70af-4770-c959-b7d7a9a50db3",
        "colab": {
          "base_uri": "https://localhost:8080/",
          "height": 272
        }
      },
      "source": [
        "!unzip \"Roboto.zip\""
      ],
      "execution_count": 3,
      "outputs": [
        {
          "output_type": "stream",
          "text": [
            "Archive:  Roboto.zip\n",
            "  inflating: LICENSE.txt             \n",
            "  inflating: Roboto-Thin.ttf         \n",
            "  inflating: Roboto-ThinItalic.ttf   \n",
            "  inflating: Roboto-Light.ttf        \n",
            "  inflating: Roboto-LightItalic.ttf  \n",
            "  inflating: Roboto-Regular.ttf      \n",
            "  inflating: Roboto-Italic.ttf       \n",
            "  inflating: Roboto-Medium.ttf       \n",
            "  inflating: Roboto-MediumItalic.ttf  \n",
            "  inflating: Roboto-Bold.ttf         \n",
            "  inflating: Roboto-BoldItalic.ttf   \n",
            "  inflating: Roboto-Black.ttf        \n",
            "  inflating: Roboto-BlackItalic.ttf  \n"
          ],
          "name": "stdout"
        }
      ]
    },
    {
      "cell_type": "code",
      "metadata": {
        "id": "AQysm9lY6g8d"
      },
      "source": [
        "!mv Roboto-Light.ttf  /usr/share/fonts/truetype/\n"
      ],
      "execution_count": 4,
      "outputs": []
    },
    {
      "cell_type": "code",
      "metadata": {
        "id": "0ChYL3Cj7gMu",
        "outputId": "ba08aa53-5db8-4add-f78b-b0f27a4e09f4",
        "colab": {
          "base_uri": "https://localhost:8080/",
          "height": 299
        }
      },
      "source": [
        "import matplotlib as mpl\n",
        "import matplotlib.pyplot as plt\n",
        "import matplotlib.font_manager as fm\n",
        "\n",
        "path = '/usr/share/fonts/truetype/Roboto-Light.ttf'\n",
        "fontprop = fm.FontProperties(fname=path, size= 12)\n",
        "fontprop_title = fm.FontProperties(fname=path, size= 32)\n",
        "fontprop_axis = fm.FontProperties(fname=path, size= 20)\n",
        "plt.plot(range(50), range(50), 'r')\n",
        "plt.title('test test te', fontproperties=fontprop)"
      ],
      "execution_count": 5,
      "outputs": [
        {
          "output_type": "execute_result",
          "data": {
            "text/plain": [
              "Text(0.5, 1.0, 'test test te')"
            ]
          },
          "metadata": {
            "tags": []
          },
          "execution_count": 5
        },
        {
          "output_type": "display_data",
          "data": {
            "image/png": "[encoded data removed]",
            "text/plain": [
              "<Figure size 432x288 with 1 Axes>"
            ]
          },
          "metadata": {
            "tags": [],
            "needs_background": "light"
          }
        }
      ]
    },
    {
      "cell_type": "code",
      "metadata": {
        "id": "4U8N_eKP78LT"
      },
      "source": [
        "import pandas as pd\n",
        "import numpy as np\n",
        "import matplotlib as mpl\n",
        "import matplotlib.pyplot as plt\n",
        "import plotly.graph_objects as go\n",
        "import seaborn as sns\n",
        "import ipywidgets as widgets\n",
        "from ipywidgets import interact, interactive, fixed, interact_manual\n",
        "import io\n",
        "import plotly.express as px\n",
        "from statistics import mean\n",
        "%matplotlib inline"
      ],
      "execution_count": 6,
      "outputs": []
    },
    {
      "cell_type": "markdown",
      "metadata": {
        "id": "XEH8Mnqk8o3-"
      },
      "source": [
        "# 1. Choose .csv file on local drive"
      ]
    },
    {
      "cell_type": "code",
      "metadata": {
        "id": "MHY9naRo8mwe",
        "outputId": "3afcf3b9-77b6-42ae-fa6f-16fc768ad2a6",
        "colab": {
          "base_uri": "https://localhost:8080/",
          "height": 49,
          "referenced_widgets": [
            "14d609c69a744a01995bc3c289116c60",
            "9f0b2139d78042efa5f864263df0fb00",
            "eb56b8e1f44d44a3b5cea06ccf1614c5"
          ]
        }
      },
      "source": [
        "uploader = widgets.FileUpload(accept= '.csv',multiple=False)\n",
        "display(uploader)\n"
      ],
      "execution_count": 47,
      "outputs": [
        {
          "output_type": "display_data",
          "data": {
            "application/vnd.jupyter.widget-view+json": {
              "model_id": "14d609c69a744a01995bc3c289116c60",
              "version_minor": 0,
              "version_major": 2
            },
            "text/plain": [
              "FileUpload(value={}, accept='.csv', description='Upload')"
            ]
          },
          "metadata": {
            "tags": []
          }
        }
      ]
    },
    {
      "cell_type": "code",
      "metadata": {
        "id": "-CmtpqhVA2aN"
      },
      "source": [
        "values = list(uploader.value.values()) # refactoring is needed"
      ],
      "execution_count": 48,
      "outputs": []
    },
    {
      "cell_type": "code",
      "metadata": {
        "id": "G2Tr5zaGADSt"
      },
      "source": [
        "data_df = pd.read_csv(io.BytesIO(values[0][\"content\"]))\n"
      ],
      "execution_count": 49,
      "outputs": []
    },
    {
      "cell_type": "code",
      "metadata": {
        "id": "mUKogZWsm7FR"
      },
      "source": [
        "data_df = data_df.drop_duplicates(ignore_index=True)"
      ],
      "execution_count": 50,
      "outputs": []
    },
    {
      "cell_type": "code",
      "metadata": {
        "id": "Tp3OqiFPEcjh"
      },
      "source": [
        "def custom_head(df,n): # wrap\n",
        "  return df.head(n)"
      ],
      "execution_count": 51,
      "outputs": []
    },
    {
      "cell_type": "code",
      "metadata": {
        "id": "sO_hPOa8lqf2"
      },
      "source": [
        "#optional \n",
        "data_df = data_df.groupby(['Superclass'], as_index = False).sum()"
      ],
      "execution_count": 52,
      "outputs": []
    },
    {
      "cell_type": "code",
      "metadata": {
        "id": "X2vN6j2WDyJY",
        "outputId": "13043a2c-9909-4646-fecc-35baadb8bf18",
        "colab": {
          "base_uri": "https://localhost:8080/",
          "height": 288,
          "referenced_widgets": [
            "cf2dee61f2cc4392b8872d9cec8ac0f1",
            "5ceae8cc017349289b5c697118c32632",
            "2156e5d29829484d8272bd7cf19d0340",
            "8ae5efca679c40a7b688dc1de843dcd0",
            "c3b0f6d0894248e4aa979631f70aa73f",
            "4ef04e9e37cf409889aacc634d5b6e3e",
            "dfe6daf5f93d4bf38b491399832b3a7e"
          ]
        }
      },
      "source": [
        "interact(custom_head,df=fixed(data_df),n=widgets.IntSlider(min=1, max=30, step=1, value=8))"
      ],
      "execution_count": 53,
      "outputs": [
        {
          "output_type": "display_data",
          "data": {
            "application/vnd.jupyter.widget-view+json": {
              "model_id": "cf2dee61f2cc4392b8872d9cec8ac0f1",
              "version_minor": 0,
              "version_major": 2
            },
            "text/plain": [
              "interactive(children=(IntSlider(value=8, description='n', max=30, min=1), Output()), _dom_classes=('widget-int…"
            ]
          },
          "metadata": {
            "tags": []
          }
        },
        {
          "output_type": "execute_result",
          "data": {
            "text/plain": [
              "<function __main__.custom_head>"
            ]
          },
          "metadata": {
            "tags": []
          },
          "execution_count": 53
        }
      ]
    },
    {
      "cell_type": "code",
      "metadata": {
        "id": "jH1MrJiyJHqP",
        "outputId": "67d39219-f329-4201-d8fd-8f26cc1101ba",
        "colab": {
          "base_uri": "https://localhost:8080/",
          "height": 119,
          "referenced_widgets": [
            "eca10ed656674c068cad60297a6aecf2",
            "e542964b7d2b4e01a42799890eb3b287",
            "303bfa06623c4503ada1b1063baad999",
            "014cabe04f114bddbc72855734ee19c2",
            "c7b49e40819e4ba98d6e5182ea9498f1",
            "727ec4afd52046529fc35922622d64cd"
          ]
        }
      },
      "source": [
        "select_column_x = widgets.Dropdown(\n",
        "    options=list(data_df.columns),   \n",
        "    description='Select column X',\n",
        "    disabled=False,\n",
        ")\n",
        "display(select_column_x, \"x value\")\n",
        "\n",
        "select_column_y = widgets.Dropdown(\n",
        "    options=list(data_df.columns),    \n",
        "    description='Select column Y',\n",
        "    disabled=False,\n",
        ")\n",
        "display(select_column_y, \"y value\")"
      ],
      "execution_count": 54,
      "outputs": [
        {
          "output_type": "display_data",
          "data": {
            "application/vnd.jupyter.widget-view+json": {
              "model_id": "eca10ed656674c068cad60297a6aecf2",
              "version_minor": 0,
              "version_major": 2
            },
            "text/plain": [
              "Dropdown(description='Select column X', options=('Superclass', 'Size', 'Images'), value='Superclass')"
            ]
          },
          "metadata": {
            "tags": []
          }
        },
        {
          "output_type": "display_data",
          "data": {
            "application/vnd.google.colaboratory.intrinsic+json": {
              "type": "string"
            },
            "text/plain": [
              "'x value'"
            ]
          },
          "metadata": {
            "tags": []
          }
        },
        {
          "output_type": "display_data",
          "data": {
            "application/vnd.jupyter.widget-view+json": {
              "model_id": "014cabe04f114bddbc72855734ee19c2",
              "version_minor": 0,
              "version_major": 2
            },
            "text/plain": [
              "Dropdown(description='Select column Y', options=('Superclass', 'Size', 'Images'), value='Superclass')"
            ]
          },
          "metadata": {
            "tags": []
          }
        },
        {
          "output_type": "display_data",
          "data": {
            "application/vnd.google.colaboratory.intrinsic+json": {
              "type": "string"
            },
            "text/plain": [
              "'y value'"
            ]
          },
          "metadata": {
            "tags": []
          }
        }
      ]
    },
    {
      "cell_type": "code",
      "metadata": {
        "id": "I2C5tS8JENhd"
      },
      "source": [
        "column_x, column_y = select_column_x.value, select_column_y.value\n"
      ],
      "execution_count": 59,
      "outputs": []
    },
    {
      "cell_type": "markdown",
      "metadata": {
        "id": "SIwDa59-l4UY"
      },
      "source": [
        "# Graphs\n"
      ]
    },
    {
      "cell_type": "code",
      "metadata": {
        "id": "I7KpfTpplz32"
      },
      "source": [
        "def gradientbars(bars,lightness):\n",
        "    grad = np.atleast_2d(np.arange(100)).T[::-1] \n",
        "    ax = bars[0].axes\n",
        "    lim = ax.get_xlim()+ax.get_ylim()\n",
        "     \n",
        "    for i in range(len(bars)):\n",
        "        bars[i].set_zorder(1)\n",
        "        bars[i].set_facecolor(\"none\")\n",
        "        x,y = bars[i].get_xy()\n",
        "        w, h = bars[i].get_width(), bars[i].get_height()\n",
        "        ax.imshow(grad, extent=[x,x+w,y,y+h], aspect=\"auto\", zorder=0,\\\n",
        "                  cmap=sns.light_palette((113.0,100.0,1 + (90/len(bars)) * (len(bars) - i) + lightness*i),input=\"husl\", n_colors=len(data_df[column_x]), as_cmap = True))\n",
        "        \n",
        "    ax.axis(lim)\n"
      ],
      "execution_count": 56,
      "outputs": []
    },
    {
      "cell_type": "code",
      "metadata": {
        "id": "05H05VhHl3YE"
      },
      "source": [
        "# pyplot library\n",
        "def draw_gradient_barplot(width, height,lightness):\n",
        "  fig, ax = plt.subplots()  \n",
        "  bar = ax.bar(data_df[column_x],data_df[column_y], edgecolor = \"green\", linewidth=1,zorder=2)\n",
        "\n",
        "  ax.set_ylabel(column_y,fontproperties=fontprop_axis)\n",
        "  ax.set_xlabel(column_x,fontproperties=fontprop_axis)\n",
        "\n",
        "  fig.set_figheight(height)\n",
        "  fig.set_figwidth(width)\n",
        "  gradientbars(bar,lightness)\n",
        "  plt.xlim([-1,data_df[column_x].size])\n",
        "  plt.xticks(data_df[column_x][::3], data_df[column_x][::3], rotation=270, fontproperties=fontprop) #зависимость от ширины? или просто переменная?\n",
        "\n",
        "  plt.rcParams['axes.titlepad'] = 20\n",
        "  plt.title('Size of image category', loc='left', fontproperties=fontprop_title, color=\"green\")\n",
        "\n",
        "  plt.hlines(np.arange(0,1500, 500), 0, len(data_df[column_x])-1,zorder=0, linewidth=1, color=(0.8, 0.8, 0.8))\n",
        "  \n",
        "  ax.spines[\"left\"].set_visible(False)\n",
        "  ax.spines[\"right\"].set_visible(False)\n",
        "  ax.spines[\"top\"].set_visible(False)\n",
        "  ax.spines[\"bottom\"].set_visible(False)\n",
        "  plt.show() "
      ],
      "execution_count": 57,
      "outputs": []
    },
    {
      "cell_type": "code",
      "metadata": {
        "id": "ZyfYTwCrmD6J",
        "outputId": "7e7e7c2b-89d7-457a-a76a-4b3c7812d455",
        "colab": {
          "base_uri": "https://localhost:8080/",
          "height": 786,
          "referenced_widgets": [
            "457b086d88b44a33bc5e9035bfb106c3",
            "6ed5b9dc578d4a26be871af098296f01",
            "8a3de590c8c84a23a938bcc0c790dcef",
            "6aed2ca162d64b2285bb86cafe9ef292",
            "52d467d8568d4ed898b8e953ab91aad4",
            "f6519ad945b64e758b015c253b20d406",
            "39c348ae1d4e4ecba8b5b25ac967a2c0",
            "78c40a0b72404c108236e95f109210b6",
            "f43d1a61b3d24c96ab548863210779a7",
            "35af7767cbd14e069ded9c5296fa642c",
            "572a108a9f644231a302ef6d992af26f",
            "a7bd10bf49764fd6a257c3ecd49f4d26",
            "af19af5d7a284608b77207cce8281738"
          ]
        }
      },
      "source": [
        "interact(draw_gradient_barplot,\n",
        "         width=widgets.IntSlider(min=0, max=50, step=1, value=22), \\\n",
        "         height=widgets.IntSlider(min=0, max=30, step=1, value=9),\\\n",
        "         lightness=widgets.IntSlider(min=0, max=30, step=1, value=8)) #borders and step, begin and end"
      ],
      "execution_count": 60,
      "outputs": [
        {
          "output_type": "display_data",
          "data": {
            "application/vnd.jupyter.widget-view+json": {
              "model_id": "457b086d88b44a33bc5e9035bfb106c3",
              "version_minor": 0,
              "version_major": 2
            },
            "text/plain": [
              "interactive(children=(IntSlider(value=22, description='width', max=50), IntSlider(value=9, description='height…"
            ]
          },
          "metadata": {
            "tags": []
          }
        },
        {
          "output_type": "execute_result",
          "data": {
            "text/plain": [
              "<function __main__.draw_gradient_barplot>"
            ]
          },
          "metadata": {
            "tags": []
          },
          "execution_count": 60
        }
      ]
    },
    {
      "cell_type": "code",
      "metadata": {
        "id": "hOdYFwjAmD87"
      },
      "source": [
        "def best_fit_slope_and_intercept(xs,ys):\n",
        "    m = (((mean(xs)*mean(ys)) - mean(xs*ys)) /\n",
        "         ((mean(xs)*mean(xs)) - mean(xs*xs)))\n",
        "    b = mean(ys) - m*mean(xs)\n",
        "    return m, b\n",
        "\n",
        "def squared_error(ys_orig,ys_line):\n",
        "    return sum((ys_line - ys_orig) * (ys_line - ys_orig))\n",
        "\n",
        "def coefficient_of_determination(ys_orig,ys_line):\n",
        "    y_mean_line = [mean(ys_orig) for y in ys_orig]\n",
        "    squared_error_regr = squared_error(ys_orig, ys_line)\n",
        "    squared_error_y_mean = squared_error(ys_orig, y_mean_line)\n",
        "    return 1 - (squared_error_regr/squared_error_y_mean)"
      ],
      "execution_count": 61,
      "outputs": []
    },
    {
      "cell_type": "code",
      "metadata": {
        "id": "sjvwWAeemEAM"
      },
      "source": [
        "# pyplot library\n",
        "from sklearn.metrics import r2_score\n",
        "import scipy\n",
        "from matplotlib.patches import Rectangle\n",
        "\n",
        "def draw_scatter(elems, logscale=False): \n",
        "  xs = np.array(np.log(range(1,elems+1,1)), dtype=np.float64)\n",
        "  ys = np.array(np.log(data_df.sort_values(by=column_y, ascending=False, ignore_index=True)[column_y][:elems]), dtype=np.float64)\n",
        "\n",
        "  m, b = best_fit_slope_and_intercept(xs,ys)\n",
        "  regression_line = [(m*x)+b for x in xs]\n",
        "\n",
        "  fig, ax = plt.subplots()\n",
        "  r_squared = coefficient_of_determination(ys,regression_line)\n",
        "  ax.scatter(xs,ys,color='#7BC100',label='Log Data')\n",
        "  ax.plot(xs, regression_line, color='gray', label='log regression line')\n",
        "\n",
        "  extra = Rectangle((0, 0), 1, 1, fc=\"w\", fill=False, edgecolor='none', linewidth=0)\n",
        "  legend = ax.legend(loc=1)\n",
        "  legend.get_texts()[0].set_text(f'y = {m:.2f}*x+{b:.2f}')\n",
        "\n",
        "  ax.grid(True)\n",
        " \n",
        "  ax.set_ylabel(column_y,fontproperties=fontprop_axis)\n",
        "  ax.set_xlabel(column_x,fontproperties=fontprop_axis)\n",
        "\n",
        "  plt.title('Size of image category', loc='left',fontproperties=fontprop_title, color=\"green\")\n",
        "\n",
        "  if logscale:\n",
        "    ax.set_yscale('log')\n",
        "    ax.set_xscale('log')\n",
        "  \n",
        "  plt.show()\n",
        "  \n",
        "  print(f\"R^2 sklearn: {r2_score(ys,regression_line)}\")\n",
        "  slope, intercept, r_value, p_value, std_err = scipy.stats.linregress(ys,regression_line)\n",
        "  print(f\"R^2: {r_squared}\")\n",
        "  print(f\"slope: {slope}\")\n",
        "  print(f\"intercept: {intercept}\")\n",
        "  print(f\"R value: {r_value}\")\n",
        "  print(f\"P value: {p_value}\")\n",
        "  print(f\"std err: {std_err}\")"
      ],
      "execution_count": 62,
      "outputs": []
    },
    {
      "cell_type": "code",
      "metadata": {
        "id": "rysVyik4mz1Q",
        "outputId": "ea5e589c-7986-41da-8717-a5d9ac846f46",
        "colab": {
          "base_uri": "https://localhost:8080/",
          "height": 542,
          "referenced_widgets": [
            "0a950577a813409cbc551312b50ff8f9",
            "19531956dd8b4181a4f3bba997d82ba0",
            "168f17e6abe8485e9805d8f7e1cb4e51",
            "f3ac45ba0f584e099994aa94e356f447",
            "22450cb5ccf440c1a7397919399d8176",
            "b7ae75110cb84832a30187d431f3c469",
            "852042b48e414fa9b578a555b5d806cb",
            "e55206ff270247e4aa22677a0ab33386",
            "e35046cbef3c47db9fb5d6e92e5fa28e",
            "a3728a775dab4dcb95bce789d7505dfa"
          ]
        }
      },
      "source": [
        "interact(draw_scatter, elems=widgets.IntSlider(min=2, max=len(data_df[column_y]), step=1, value=len(data_df[column_y])//2), logscale=False)"
      ],
      "execution_count": 63,
      "outputs": [
        {
          "output_type": "display_data",
          "data": {
            "application/vnd.jupyter.widget-view+json": {
              "model_id": "0a950577a813409cbc551312b50ff8f9",
              "version_minor": 0,
              "version_major": 2
            },
            "text/plain": [
              "interactive(children=(IntSlider(value=3, description='elems', max=6, min=2), Checkbox(value=False, description…"
            ]
          },
          "metadata": {
            "tags": []
          }
        },
        {
          "output_type": "execute_result",
          "data": {
            "text/plain": [
              "<function __main__.draw_scatter>"
            ]
          },
          "metadata": {
            "tags": []
          },
          "execution_count": 63
        }
      ]
    },
    {
      "cell_type": "code",
      "metadata": {
        "id": "ddnxYHGMABha",
        "outputId": "a31147f4-4366-400f-bf71-d159dfbe55c1",
        "colab": {
          "base_uri": "https://localhost:8080/",
          "height": 36
        }
      },
      "source": [
        "column_y\n"
      ],
      "execution_count": 66,
      "outputs": [
        {
          "output_type": "execute_result",
          "data": {
            "application/vnd.google.colaboratory.intrinsic+json": {
              "type": "string"
            },
            "text/plain": [
              "'Size'"
            ]
          },
          "metadata": {
            "tags": []
          },
          "execution_count": 66
        }
      ]
    },
    {
      "cell_type": "code",
      "metadata": {
        "id": "n0181ZJq-rm1",
        "outputId": "3327a1f2-9bac-455e-fad8-d7ca529a3d1d",
        "colab": {
          "base_uri": "https://localhost:8080/",
          "height": 588
        }
      },
      "source": [
        "import matplotlib.pyplot as plt\n",
        "\n",
        "# Pie chart, where the slices will be ordered and plotted counter-clockwise:\n",
        "labels = data_df[column_x]\n",
        "sizes = data_df[column_y]\n",
        "\n",
        "\n",
        "\n",
        "fig, ax = plt.subplots()\n",
        "\n",
        "fig.set_figheight(10)\n",
        "fig.set_figwidth(10)\n",
        "\n",
        "\n",
        "\n",
        "ax.pie(sizes, labels=labels, autopct='%1.1f%%',\n",
        "        shadow=False, startangle=90, colors=sns.light_palette(\"#7bc100\", reverse=True),textprops = {'fontproperties':fontprop_axis})\n",
        "ax.axis('equal')  # Equal aspect ratio ensures that pie is drawn as a circle.\n",
        "\n",
        "plt.show()"
      ],
      "execution_count": 82,
      "outputs": [
        {
          "output_type": "display_data",
          "data": {
            "image/png": "[encoded data removed]",
            "text/plain": [
              "<Figure size 720x720 with 1 Axes>"
            ]
          },
          "metadata": {
            "tags": []
          }
        }
      ]
    },
    {
      "cell_type": "markdown",
      "metadata": {
        "id": "00-DsoKCoZbS"
      },
      "source": [
        "# Palette"
      ]
    },
    {
      "cell_type": "code",
      "metadata": {
        "id": "a5jGTMtZJBg1",
        "outputId": "1367a2ea-4c85-49dd-ddcc-eac091092fc3",
        "colab": {
          "base_uri": "https://localhost:8080/",
          "height": 106
        }
      },
      "source": [
        "sns.palplot(sns.light_palette(\"#7bc100\", reverse=True)) #basic pallete\n",
        "sns.palplot(sns.light_palette((\"#7bc100\"), n_colors=len(data_df[column_x]), reverse=True)) #gradient to all data\n"
      ],
      "execution_count": null,
      "outputs": [
        {
          "output_type": "display_data",
          "data": {
            "image/png": "[encoded data removed]",
            "text/plain": [
              "<Figure size 432x72 with 1 Axes>"
            ]
          },
          "metadata": {
            "tags": [],
            "needs_background": "light"
          }
        },
        {
          "output_type": "display_data",
          "data": {
            "image/png": "[encoded data removed]",
            "text/plain": [
              "<Figure size 14904x72 with 1 Axes>"
            ]
          },
          "metadata": {
            "tags": [],
            "needs_background": "light"
          }
        }
      ]
    },
    {
      "cell_type": "markdown",
      "metadata": {
        "id": "kITzs1qjKm2j"
      },
      "source": [
        "# Graphs\n",
        "\n",
        "---\n",
        "\n",
        "\n"
      ]
    },
    {
      "cell_type": "code",
      "metadata": {
        "id": "rWDdjS74pgRO",
        "outputId": "f24aa364-f203-4f8e-d3a7-698dec7e8731",
        "colab": {
          "base_uri": "https://localhost:8080/",
          "height": 433
        }
      },
      "source": [
        "# Seaborn library\n",
        "f, ax = plt.subplots(figsize=(17, 7))\n",
        "sns.barplot(x=column_x, y=column_y, data=data_df,\n",
        "            palette=sns.light_palette(\"#7bc100\", reverse=True, n_colors=len(data_df[column_x])))\n",
        "plt.xlabel(column_x)\n",
        "plt.ylabel(column_y)\n",
        "plt.title('Size of image category')\n",
        "plt.show()\n"
      ],
      "execution_count": null,
      "outputs": [
        {
          "output_type": "display_data",
          "data": {
            "image/png": "[encoded data removed]",
            "text/plain": [
              "<Figure size 1224x504 with 1 Axes>"
            ]
          },
          "metadata": {
            "tags": [],
            "needs_background": "light"
          }
        }
      ]
    },
    {
      "cell_type": "code",
      "metadata": {
        "id": "9ay3YYn0cCe8",
        "outputId": "3e2ff8b5-ade7-43d7-e20b-960c1389ae08",
        "colab": {
          "base_uri": "https://localhost:8080/",
          "height": 542
        }
      },
      "source": [
        "# PyPlot library\n",
        "trace = go.Bar(\n",
        "    x = data_df[column_x],\n",
        "    y = data_df[column_y],\n",
        "    marker_color='#7BC100'\n",
        "  #  marker=dict(\n",
        "       # color=(\"#7BC100\", \"#B4DD6D\"),\n",
        "   #     cmax=100,\n",
        "    #    cmin=0,\n",
        "   # ),\n",
        "    \n",
        ")\n",
        "\n",
        "layout = go.Layout(\n",
        "    title='Size of image category',\n",
        ")\n",
        "\n",
        "\n",
        "fig = go.Figure(data = [trace], layout = layout)\n",
        "fig.show()"
      ],
      "execution_count": null,
      "outputs": [
        {
          "output_type": "display_data",
          "data": {
            "text/html": [
              "<html>\n",
              "<head><meta charset=\"utf-8\" /></head>\n",
              "<body>\n",
              "    <div>\n",
              "            <script src=\"https://cdnjs.cloudflare.com/ajax/libs/mathjax/2.7.5/MathJax.js?config=TeX-AMS-MML_SVG\"></script><script type=\"text/javascript\">if (window.MathJax) {MathJax.Hub.Config({SVG: {font: \"STIX-Web\"}});}</script>\n",
              "                <script type=\"text/javascript\">window.PlotlyConfig = {MathJaxConfig: 'local'};</script>\n",
              "        <script src=\"https://cdn.plot.ly/plotly-latest.min.js\"></script>    \n",
              "            <div id=\"abccf9c3-9dfa-44a7-a57f-a44d5d838207\" class=\"plotly-graph-div\" style=\"height:525px; width:100%;\"></div>\n",
              "            <script type=\"text/javascript\">\n",
              "                \n",
              "                    window.PLOTLYENV=window.PLOTLYENV || {};\n",
              "                    \n",
              "                if (document.getElementById(\"abccf9c3-9dfa-44a7-a57f-a44d5d838207\")) {\n",
              "                    Plotly.newPlot(\n",
              "                        'abccf9c3-9dfa-44a7-a57f-a44d5d838207',\n",
              "                        [{\"marker\": {\"color\": \"#7BC100\"}, \"type\": \"bar\", \"x\": [\"food\", \"tree\", \"worker\", \"bird\", \"bush\", \"fish\", \"clothing\", \"habitant\", \"adult grownup\", \"flower\", \"leader\", \"tool\", \"person of color\", \"fruit\", \"communicator\", \"textile\", \"vine\", \"building\", \"microorganism\", \"bad person\", \"nonflowering plant\", \"furniture\", \"room\", \"dog\", \"bulbpus plant\", \"entertainer\", \"creator\", \"vegetable\", \"native american\", \"traveler\", \"relative, relation\", \"grass\", \"capitalist\", \"musical instrument\", \"religious person\", \"unwelcome person\", \"intellectual\", \"female\", \"wilding\", \"wild flower\", \"housing\", \"liliaceous plant\", \"scientist\", \"unfortunate person\", \"acuatic plant\", \"snake\", \"bread\", \"advocate\", \"book\", \"male\", \"primate\", \"sports equipment\", \"sweet\", \"horse\", \"shellfish\", \"follower\", \"african\", \"peer\", \"user\", \"tube\", \"moth\", \"leaf\", \"shop store\", \"hair\", \"boat\", \"beetle\", \"lizard\", \"cat\", \"aircraft\", \"road\", \"cruciferous plant\", \"weed\", \"footwear\", \"frog\", \"appliance\", \"cord\", \"stem\", \"good person\", \"combatant\", \"motor\", \"photo\", \"legume\", \"dinasour\", \"chamber\", \"toy\", \"larva\", \"juvenile\", \"cookware\", \"band\", \"ruler\", \"game\", \"graphic art\", \"owner\", \"fly\", \"spouse\", \"particle\", \"plate\", \"acquirer\", \"bat\", \"carriage\", \"shield\", \"pisputant\", \"jewelry\", \"worm\", \"electrical circuit\", \"bomb\", \"wheel\", \"dishware\", \"lover\", \"nonworker\", \"polygon\", \"salamander\", \"industrial plant\", \"bottle\", \"ball\", \"party\", \"enrolle\", \"antelope\", \"lamp\", \"simpleton\", \"observer\", \"butterfly\", \"knot\", \"warship\", \"hole\", \"poisonous plant\", \"whale\", \"board\", \"white person\", \"rock\", \"aborigine\", \"cow\", \"pad\", \"adjudicator\", \"cnidarian\", \"drawing\", \"printer\", \"sailing ship\", \"wall\", \"copy\", \"unskilled person\", \"prison\", \"rope\", \"killer\", \"bramble\", \"rail car\", \"common person\", \"lagomorth\", \"transducer\", \"carriage\", \"window\", \"lumber\", \"acarine\", \"deer\", \"squirrel\", \"power tool\", \"lens\", \"beam\", \"post\", \"truck\", \"movie\", \"document\", \"egnineer\", \"rat\", \"root\", \"pump\", \"roof\", \"gambler\", \"trap\", \"wagon\", \"tent\", \"tower\", \"linen\", \"aroid\", \"vacuum tube\", \"indicator\", \"recording\", \"light\", \"rocket\", \"armament\", \"picture\", \"display\", \"periodical\", \"floor\", \"stone\", \"stairway\", \"louse\", \"domestic cat\", \"filter\", \"screw\", \"door\", \"flag\", \"crab\", \"wasp\", \"star\", \"textile machine\", \"switch\", \"gear\", \"cosmetic\", \"bond\", \"ammo\", \"telephone\", \"bridge\", \"fortification\", \"rug\", \"luggage\", \"other\"], \"y\": [1526, 1013, 919, 871, 782, 617, 560, 485, 476, 467, 418, 347, 320, 320, 313, 283, 272, 267, 261, 233, 203, 196, 195, 189, 179, 176, 175, 175, 174, 170, 167, 167, 166, 163, 157, 152, 151, 150, 141, 140, 130, 124, 123, 122, 116, 114, 112, 109, 107, 106, 104, 99, 93, 87, 85, 81, 74, 72, 72, 72, 69, 69, 69, 64, 63, 62, 62, 59, 58, 57, 55, 54, 54, 53, 53, 53, 52, 51, 51, 51, 51, 50, 50, 50, 50, 49, 48, 48, 48, 47, 47, 47, 46, 46, 44, 43, 43, 42, 40, 40, 40, 39, 39, 38, 38, 38, 38, 37, 36, 36, 36, 35, 35, 34, 34, 33, 33, 33, 33, 32, 32, 32, 32, 32, 32, 31, 31, 31, 30, 30, 29, 29, 29, 28, 28, 28, 27, 27, 27, 27, 26, 26, 26, 25, 25, 25, 24, 24, 24, 24, 24, 24, 23, 23, 23, 23, 23, 23, 23, 23, 23, 23, 22, 22, 22, 22, 22, 21, 21, 21, 21, 21, 21, 20, 20, 20, 20, 20, 20, 20, 20, 19, 19, 19, 19, 19, 18, 18, 18, 18, 18, 18, 17, 17, 17, 17, 17, 17, 17, 17, 17, 17, 17, 17, 16, 15, 1362]}],\n",
              "                        {\"template\": {\"data\": {\"bar\": [{\"error_x\": {\"color\": \"#2a3f5f\"}, \"error_y\": {\"color\": \"#2a3f5f\"}, \"marker\": {\"line\": {\"color\": \"#E5ECF6\", \"width\": 0.5}}, \"type\": \"bar\"}], \"barpolar\": [{\"marker\": {\"line\": {\"color\": \"#E5ECF6\", \"width\": 0.5}}, \"type\": \"barpolar\"}], \"carpet\": [{\"aaxis\": {\"endlinecolor\": \"#2a3f5f\", \"gridcolor\": \"white\", \"linecolor\": \"white\", \"minorgridcolor\": \"white\", \"startlinecolor\": \"#2a3f5f\"}, \"baxis\": {\"endlinecolor\": \"#2a3f5f\", \"gridcolor\": \"white\", \"linecolor\": \"white\", \"minorgridcolor\": \"white\", \"startlinecolor\": \"#2a3f5f\"}, \"type\": \"carpet\"}], \"choropleth\": [{\"colorbar\": {\"outlinewidth\": 0, \"ticks\": \"\"}, \"type\": \"choropleth\"}], \"contour\": [{\"colorbar\": {\"outlinewidth\": 0, \"ticks\": \"\"}, \"colorscale\": [[0.0, \"#0d0887\"], [0.1111111111111111, \"#46039f\"], [0.2222222222222222, \"#7201a8\"], [0.3333333333333333, \"#9c179e\"], [0.4444444444444444, \"#bd3786\"], [0.5555555555555556, \"#d8576b\"], [0.6666666666666666, \"#ed7953\"], [0.7777777777777778, \"#fb9f3a\"], [0.8888888888888888, \"#fdca26\"], [1.0, \"#f0f921\"]], \"type\": \"contour\"}], \"contourcarpet\": [{\"colorbar\": {\"outlinewidth\": 0, \"ticks\": \"\"}, \"type\": \"contourcarpet\"}], \"heatmap\": [{\"colorbar\": {\"outlinewidth\": 0, \"ticks\": \"\"}, \"colorscale\": [[0.0, \"#0d0887\"], [0.1111111111111111, \"#46039f\"], [0.2222222222222222, \"#7201a8\"], [0.3333333333333333, \"#9c179e\"], [0.4444444444444444, \"#bd3786\"], [0.5555555555555556, \"#d8576b\"], [0.6666666666666666, \"#ed7953\"], [0.7777777777777778, \"#fb9f3a\"], [0.8888888888888888, \"#fdca26\"], [1.0, \"#f0f921\"]], \"type\": \"heatmap\"}], \"heatmapgl\": [{\"colorbar\": {\"outlinewidth\": 0, \"ticks\": \"\"}, \"colorscale\": [[0.0, \"#0d0887\"], [0.1111111111111111, \"#46039f\"], [0.2222222222222222, \"#7201a8\"], [0.3333333333333333, \"#9c179e\"], [0.4444444444444444, \"#bd3786\"], [0.5555555555555556, \"#d8576b\"], [0.6666666666666666, \"#ed7953\"], [0.7777777777777778, \"#fb9f3a\"], [0.8888888888888888, \"#fdca26\"], [1.0, \"#f0f921\"]], \"type\": \"heatmapgl\"}], \"histogram\": [{\"marker\": {\"colorbar\": {\"outlinewidth\": 0, \"ticks\": \"\"}}, \"type\": \"histogram\"}], \"histogram2d\": [{\"colorbar\": {\"outlinewidth\": 0, \"ticks\": \"\"}, \"colorscale\": [[0.0, \"#0d0887\"], [0.1111111111111111, \"#46039f\"], [0.2222222222222222, \"#7201a8\"], [0.3333333333333333, \"#9c179e\"], [0.4444444444444444, \"#bd3786\"], [0.5555555555555556, \"#d8576b\"], [0.6666666666666666, \"#ed7953\"], [0.7777777777777778, \"#fb9f3a\"], [0.8888888888888888, \"#fdca26\"], [1.0, \"#f0f921\"]], \"type\": \"histogram2d\"}], \"histogram2dcontour\": [{\"colorbar\": {\"outlinewidth\": 0, \"ticks\": \"\"}, \"colorscale\": [[0.0, \"#0d0887\"], [0.1111111111111111, \"#46039f\"], [0.2222222222222222, \"#7201a8\"], [0.3333333333333333, \"#9c179e\"], [0.4444444444444444, \"#bd3786\"], [0.5555555555555556, \"#d8576b\"], [0.6666666666666666, \"#ed7953\"], [0.7777777777777778, \"#fb9f3a\"], [0.8888888888888888, \"#fdca26\"], [1.0, \"#f0f921\"]], \"type\": \"histogram2dcontour\"}], \"mesh3d\": [{\"colorbar\": {\"outlinewidth\": 0, \"ticks\": \"\"}, \"type\": \"mesh3d\"}], \"parcoords\": [{\"line\": {\"colorbar\": {\"outlinewidth\": 0, \"ticks\": \"\"}}, \"type\": \"parcoords\"}], \"pie\": [{\"automargin\": true, \"type\": \"pie\"}], \"scatter\": [{\"marker\": {\"colorbar\": {\"outlinewidth\": 0, \"ticks\": \"\"}}, \"type\": \"scatter\"}], \"scatter3d\": [{\"line\": {\"colorbar\": {\"outlinewidth\": 0, \"ticks\": \"\"}}, \"marker\": {\"colorbar\": {\"outlinewidth\": 0, \"ticks\": \"\"}}, \"type\": \"scatter3d\"}], \"scattercarpet\": [{\"marker\": {\"colorbar\": {\"outlinewidth\": 0, \"ticks\": \"\"}}, \"type\": \"scattercarpet\"}], \"scattergeo\": [{\"marker\": {\"colorbar\": {\"outlinewidth\": 0, \"ticks\": \"\"}}, \"type\": \"scattergeo\"}], \"scattergl\": [{\"marker\": {\"colorbar\": {\"outlinewidth\": 0, \"ticks\": \"\"}}, \"type\": \"scattergl\"}], \"scattermapbox\": [{\"marker\": {\"colorbar\": {\"outlinewidth\": 0, \"ticks\": \"\"}}, \"type\": \"scattermapbox\"}], \"scatterpolar\": [{\"marker\": {\"colorbar\": {\"outlinewidth\": 0, \"ticks\": \"\"}}, \"type\": \"scatterpolar\"}], \"scatterpolargl\": [{\"marker\": {\"colorbar\": {\"outlinewidth\": 0, \"ticks\": \"\"}}, \"type\": \"scatterpolargl\"}], \"scatterternary\": [{\"marker\": {\"colorbar\": {\"outlinewidth\": 0, \"ticks\": \"\"}}, \"type\": \"scatterternary\"}], \"surface\": [{\"colorbar\": {\"outlinewidth\": 0, \"ticks\": \"\"}, \"colorscale\": [[0.0, \"#0d0887\"], [0.1111111111111111, \"#46039f\"], [0.2222222222222222, \"#7201a8\"], [0.3333333333333333, \"#9c179e\"], [0.4444444444444444, \"#bd3786\"], [0.5555555555555556, \"#d8576b\"], [0.6666666666666666, \"#ed7953\"], [0.7777777777777778, \"#fb9f3a\"], [0.8888888888888888, \"#fdca26\"], [1.0, \"#f0f921\"]], \"type\": \"surface\"}], \"table\": [{\"cells\": {\"fill\": {\"color\": \"#EBF0F8\"}, \"line\": {\"color\": \"white\"}}, \"header\": {\"fill\": {\"color\": \"#C8D4E3\"}, \"line\": {\"color\": \"white\"}}, \"type\": \"table\"}]}, \"layout\": {\"annotationdefaults\": {\"arrowcolor\": \"#2a3f5f\", \"arrowhead\": 0, \"arrowwidth\": 1}, \"coloraxis\": {\"colorbar\": {\"outlinewidth\": 0, \"ticks\": \"\"}}, \"colorscale\": {\"diverging\": [[0, \"#8e0152\"], [0.1, \"#c51b7d\"], [0.2, \"#de77ae\"], [0.3, \"#f1b6da\"], [0.4, \"#fde0ef\"], [0.5, \"#f7f7f7\"], [0.6, \"#e6f5d0\"], [0.7, \"#b8e186\"], [0.8, \"#7fbc41\"], [0.9, \"#4d9221\"], [1, \"#276419\"]], \"sequential\": [[0.0, \"#0d0887\"], [0.1111111111111111, \"#46039f\"], [0.2222222222222222, \"#7201a8\"], [0.3333333333333333, \"#9c179e\"], [0.4444444444444444, \"#bd3786\"], [0.5555555555555556, \"#d8576b\"], [0.6666666666666666, \"#ed7953\"], [0.7777777777777778, \"#fb9f3a\"], [0.8888888888888888, \"#fdca26\"], [1.0, \"#f0f921\"]], \"sequentialminus\": [[0.0, \"#0d0887\"], [0.1111111111111111, \"#46039f\"], [0.2222222222222222, \"#7201a8\"], [0.3333333333333333, \"#9c179e\"], [0.4444444444444444, \"#bd3786\"], [0.5555555555555556, \"#d8576b\"], [0.6666666666666666, \"#ed7953\"], [0.7777777777777778, \"#fb9f3a\"], [0.8888888888888888, \"#fdca26\"], [1.0, \"#f0f921\"]]}, \"colorway\": [\"#636efa\", \"#EF553B\", \"#00cc96\", \"#ab63fa\", \"#FFA15A\", \"#19d3f3\", \"#FF6692\", \"#B6E880\", \"#FF97FF\", \"#FECB52\"], \"font\": {\"color\": \"#2a3f5f\"}, \"geo\": {\"bgcolor\": \"white\", \"lakecolor\": \"white\", \"landcolor\": \"#E5ECF6\", \"showlakes\": true, \"showland\": true, \"subunitcolor\": \"white\"}, \"hoverlabel\": {\"align\": \"left\"}, \"hovermode\": \"closest\", \"mapbox\": {\"style\": \"light\"}, \"paper_bgcolor\": \"white\", \"plot_bgcolor\": \"#E5ECF6\", \"polar\": {\"angularaxis\": {\"gridcolor\": \"white\", \"linecolor\": \"white\", \"ticks\": \"\"}, \"bgcolor\": \"#E5ECF6\", \"radialaxis\": {\"gridcolor\": \"white\", \"linecolor\": \"white\", \"ticks\": \"\"}}, \"scene\": {\"xaxis\": {\"backgroundcolor\": \"#E5ECF6\", \"gridcolor\": \"white\", \"gridwidth\": 2, \"linecolor\": \"white\", \"showbackground\": true, \"ticks\": \"\", \"zerolinecolor\": \"white\"}, \"yaxis\": {\"backgroundcolor\": \"#E5ECF6\", \"gridcolor\": \"white\", \"gridwidth\": 2, \"linecolor\": \"white\", \"showbackground\": true, \"ticks\": \"\", \"zerolinecolor\": \"white\"}, \"zaxis\": {\"backgroundcolor\": \"#E5ECF6\", \"gridcolor\": \"white\", \"gridwidth\": 2, \"linecolor\": \"white\", \"showbackground\": true, \"ticks\": \"\", \"zerolinecolor\": \"white\"}}, \"shapedefaults\": {\"line\": {\"color\": \"#2a3f5f\"}}, \"ternary\": {\"aaxis\": {\"gridcolor\": \"white\", \"linecolor\": \"white\", \"ticks\": \"\"}, \"baxis\": {\"gridcolor\": \"white\", \"linecolor\": \"white\", \"ticks\": \"\"}, \"bgcolor\": \"#E5ECF6\", \"caxis\": {\"gridcolor\": \"white\", \"linecolor\": \"white\", \"ticks\": \"\"}}, \"title\": {\"x\": 0.05}, \"xaxis\": {\"automargin\": true, \"gridcolor\": \"white\", \"linecolor\": \"white\", \"ticks\": \"\", \"title\": {\"standoff\": 15}, \"zerolinecolor\": \"white\", \"zerolinewidth\": 2}, \"yaxis\": {\"automargin\": true, \"gridcolor\": \"white\", \"linecolor\": \"white\", \"ticks\": \"\", \"title\": {\"standoff\": 15}, \"zerolinecolor\": \"white\", \"zerolinewidth\": 2}}}, \"title\": {\"text\": \"Size of image category\"}},\n",
              "                        {\"responsive\": true}\n",
              "                    ).then(function(){\n",
              "                            \n",
              "var gd = document.getElementById('abccf9c3-9dfa-44a7-a57f-a44d5d838207');\n",
              "var x = new MutationObserver(function (mutations, observer) {{\n",
              "        var display = window.getComputedStyle(gd).display;\n",
              "        if (!display || display === 'none') {{\n",
              "            console.log([gd, 'removed!']);\n",
              "            Plotly.purge(gd);\n",
              "            observer.disconnect();\n",
              "        }}\n",
              "}});\n",
              "\n",
              "// Listen for the removal of the full notebook cells\n",
              "var notebookContainer = gd.closest('#notebook-container');\n",
              "if (notebookContainer) {{\n",
              "    x.observe(notebookContainer, {childList: true});\n",
              "}}\n",
              "\n",
              "// Listen for the clearing of the current output cell\n",
              "var outputEl = gd.closest('.output');\n",
              "if (outputEl) {{\n",
              "    x.observe(outputEl, {childList: true});\n",
              "}}\n",
              "\n",
              "                        })\n",
              "                };\n",
              "                \n",
              "            </script>\n",
              "        </div>\n",
              "</body>\n",
              "</html>"
            ]
          },
          "metadata": {
            "tags": []
          }
        }
      ]
    },
    {
      "cell_type": "markdown",
      "metadata": {
        "id": "1s84Pyarjpeo"
      },
      "source": [
        "Coefficient sqr(R)"
      ]
    },
    {
      "cell_type": "code",
      "metadata": {
        "id": "-Kg5flyGjj-b",
        "outputId": "e8062f00-7b4b-4718-cfbd-23be608d54bc",
        "colab": {
          "base_uri": "https://localhost:8080/",
          "height": 34
        }
      },
      "source": [
        "xs = np.array(np.log(range(1,len(data_df['Size'])+1,1)), dtype=np.float64)\n",
        "ys =np.array(np.log(data_df['Size']), dtype=np.float64)\n",
        "\n",
        "def best_fit_slope_and_intercept(xs,ys):\n",
        "    m = (((mean(xs)*mean(ys)) - mean(xs*ys)) /\n",
        "         ((mean(xs)*mean(xs)) - mean(xs*xs)))\n",
        "    b = mean(ys) - m*mean(xs)\n",
        "    return m, b\n",
        "\n",
        "def squared_error(ys_orig,ys_line):\n",
        "    return sum((ys_line - ys_orig) * (ys_line - ys_orig))\n",
        "\n",
        "def coefficient_of_determination(ys_orig,ys_line):\n",
        "    y_mean_line = [mean(ys_orig) for y in ys_orig]\n",
        "    squared_error_regr = squared_error(ys_orig, ys_line)\n",
        "    squared_error_y_mean = squared_error(ys_orig, y_mean_line)\n",
        "    return 1 - (squared_error_regr/squared_error_y_mean)\n",
        "    \n",
        "m, b = best_fit_slope_and_intercept(xs,ys)\n",
        "regression_line = [(m*x)+b for x in xs]\n",
        "\n",
        "r_squared = coefficient_of_determination(ys,regression_line)\n",
        "print(r_squared)\n"
      ],
      "execution_count": null,
      "outputs": [
        {
          "output_type": "stream",
          "text": [
            "0.8928014155807511\n"
          ],
          "name": "stdout"
        }
      ]
    },
    {
      "cell_type": "code",
      "metadata": {
        "id": "7Td_k5aXkPf-",
        "outputId": "2d6fbd72-f675-4b2b-d80b-acb978a344d3",
        "colab": {
          "base_uri": "https://localhost:8080/",
          "height": 265
        }
      },
      "source": [
        "plt.scatter(xs,ys,color='#7BC100',label='Log Data')\n",
        "plt.plot(xs, regression_line, color='gray', label='log regression line')\n",
        "plt.legend(loc=1)\n",
        "plt.show()"
      ],
      "execution_count": null,
      "outputs": [
        {
          "output_type": "display_data",
          "data": {
            "image/png": "[encoded data removed]",
            "text/plain": [
              "<Figure size 432x288 with 1 Axes>"
            ]
          },
          "metadata": {
            "tags": [],
            "needs_background": "light"
          }
        }
      ]
    },
    {
      "cell_type": "code",
      "metadata": {
        "id": "9BFWfbrJK2vr",
        "outputId": "1fb13035-2653-4727-fd50-7982df7e44e5",
        "colab": {
          "base_uri": "https://localhost:8080/",
          "height": 295
        }
      },
      "source": [
        "#Some old code \n",
        "\n",
        "#import pandas as pd\n",
        "\n",
        "# Generate data on commute times.\n",
        "size, scale = 1000, 10\n",
        "commutes = pd.Series(np.random.gamma(scale, size=size) ** 1.5)\n",
        "\n",
        "commutes.plot.hist(grid=True, bins=20, rwidth=0.9,\n",
        "                   color='#7BC100')\n",
        "plt.title('Commute Times for 1,000 Commuters')\n",
        "plt.xlabel('Counts')\n",
        "plt.ylabel('Commute Time')\n",
        "plt.grid(axis='y', alpha=0.75)"
      ],
      "execution_count": null,
      "outputs": [
        {
          "output_type": "display_data",
          "data": {
            "image/png": "[encoded data removed]",
            "text/plain": [
              "<Figure size 432x288 with 1 Axes>"
            ]
          },
          "metadata": {
            "tags": [],
            "needs_background": "light"
          }
        }
      ]
    }
  ]
}
